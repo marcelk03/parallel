{
 "cells": [
  {
   "cell_type": "code",
   "execution_count": 1,
   "metadata": {},
   "outputs": [
    {
     "name": "stderr",
     "output_type": "stream",
     "text": [
      "Seed set to 123\n"
     ]
    }
   ],
   "source": [
    "import numpy as np\n",
    "from math import inf\n",
    "from spotpython.spot import spot\n",
    "from scipy.optimize import differential_evolution\n",
    "from spotpython.utils.init import (\n",
    "    fun_control_init,\n",
    "    design_control_init,\n",
    "    surrogate_control_init,\n",
    "    optimizer_control_init)\n",
    "import parallel_wrapper as pw\n",
    "import objfunc"
   ]
  },
  {
   "cell_type": "code",
   "execution_count": 2,
   "metadata": {},
   "outputs": [
    {
     "name": "stderr",
     "output_type": "stream",
     "text": [
      "Seed set to 123\n"
     ]
    }
   ],
   "source": [
    "fun_control = fun_control_init(\n",
    "                    lower = np.array([0, 0]),\n",
    "                    upper = np.array([10, 10]),\n",
    "                    fun_evals=8,\n",
    "                    fun_repeats=1,\n",
    "                    max_time=inf,\n",
    "                    noise=False,\n",
    "                    tolerance_x=0,\n",
    "                    ocba_delta=0,\n",
    "                    var_type=[\"num\", \"num\"],\n",
    "                    infill_criterion=\"ei\",\n",
    "                    n_points=1,\n",
    "                    seed=123,\n",
    "                    log_level=20,\n",
    "                    show_models=False,\n",
    "                    show_progress=True,\n",
    "                    )\n",
    "\n",
    "design_control = design_control_init(\n",
    "                    init_size=50,\n",
    "                    repeats=10)\n",
    "\n",
    "surrogate_control = surrogate_control_init(\n",
    "                    model_optimizer=differential_evolution,\n",
    "                    model_fun_evals=10000,\n",
    "                    min_theta=-3,\n",
    "                    max_theta=3,\n",
    "                    n_theta=2,\n",
    "                    theta_init_zero=False,\n",
    "                    n_p=1,\n",
    "                    optim_p=False,\n",
    "                    var_type=[\"num\", \"num\"],\n",
    "                    metric_factorial=\"canberra\",\n",
    "                    seed=124)\n",
    "\n",
    "optimizer_control = optimizer_control_init(\n",
    "                    max_iter=1000,\n",
    "                    seed=125)\n",
    "\n",
    "parallel_obj = pw.parallel_wrap(objfunc.objective_function, num_cores=4)\n",
    "\n",
    "spot = spot.Spot(fun=parallel_obj,\n",
    "                    fun_control=fun_control,\n",
    "                    design_control=design_control,\n",
    "                    surrogate_control=surrogate_control,\n",
    "                    optimizer_control=optimizer_control)"
   ]
  },
  {
   "cell_type": "code",
   "execution_count": 3,
   "metadata": {},
   "outputs": [
    {
     "name": "stderr",
     "output_type": "stream",
     "text": [
      "c:\\Users\\Marcel\\anaconda3\\envs\\spot\\Lib\\site-packages\\sklearn\\cluster\\_kmeans.py:1419: UserWarning: KMeans is known to have a memory leak on Windows with MKL, when there are less chunks than available threads. You can avoid it by setting the environment variable OMP_NUM_THREADS=2.\n",
      "  warnings.warn(\n"
     ]
    },
    {
     "name": "stdout",
     "output_type": "stream",
     "text": [
      "Experiment saved to 000_res.pkl\n"
     ]
    },
    {
     "data": {
      "text/plain": [
       "<spotpython.spot.spot.Spot at 0x173b1957950>"
      ]
     },
     "execution_count": 3,
     "metadata": {},
     "output_type": "execute_result"
    }
   ],
   "source": [
    "spot.run()"
   ]
  }
 ],
 "metadata": {
  "kernelspec": {
   "display_name": "spot",
   "language": "python",
   "name": "python3"
  },
  "language_info": {
   "codemirror_mode": {
    "name": "ipython",
    "version": 3
   },
   "file_extension": ".py",
   "mimetype": "text/x-python",
   "name": "python",
   "nbconvert_exporter": "python",
   "pygments_lexer": "ipython3",
   "version": "3.12.9"
  }
 },
 "nbformat": 4,
 "nbformat_minor": 2
}
